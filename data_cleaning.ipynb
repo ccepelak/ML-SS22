{
 "cells": [
  {
   "cell_type": "markdown",
   "metadata": {},
   "source": [
    "# Crafting a first data set. "
   ]
  },
  {
   "cell_type": "markdown",
   "metadata": {},
   "source": [
    "Things that need to be done: \n",
    "- find a set of satellite images that is tagged with locations\n",
    "- find a granular poverty data set taht includes locations taht can be mapped to the images\n",
    "- join the datasets "
   ]
  },
  {
   "cell_type": "markdown",
   "metadata": {},
   "source": []
  }
 ],
 "metadata": {
  "language_info": {
   "name": "python"
  },
  "orig_nbformat": 4
 },
 "nbformat": 4,
 "nbformat_minor": 2
}
