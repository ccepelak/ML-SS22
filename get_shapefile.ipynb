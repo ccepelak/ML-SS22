{
 "cells": [
  {
   "cell_type": "code",
   "execution_count": 18,
   "metadata": {},
   "outputs": [],
   "source": [
    "import numpy as np\n",
    "import scipy as sp\n",
    "import scipy.stats as sts\n",
    "import matplotlib.pyplot as plt\n",
    "\n",
    "from collections import defaultdict\n",
    "from glob import glob\n",
    "import ntpath\n",
    "\n",
    "import random as rd\n",
    "import pylab as pl\n",
    "import pandas as pd\n",
    "import re\n",
    "from sklearn import decomposition\n",
    "\n",
    "\n",
    "from PIL import Image\n",
    "import PIL.ImageOps\n",
    "\n",
    "import ntpath\n",
    "import geopandas as gpd\n",
    "from shapely.geometry import Point, Polygon\n",
    "from fiona.crs import from_epsg\n"
   ]
  },
  {
   "cell_type": "code",
   "execution_count": 2,
   "metadata": {},
   "outputs": [],
   "source": [
    "raw_images_links = glob(\"/Users/johannes/Desktop/Hertie/images/*\")"
   ]
  },
  {
   "cell_type": "code",
   "execution_count": 3,
   "metadata": {},
   "outputs": [
    {
     "data": {
      "text/plain": [
       "'/Users/johannes/Desktop/Hertie/images/11.810393014201992_-8.670194516334023_11.7954210928_-8.71511028054.png'"
      ]
     },
     "execution_count": 3,
     "metadata": {},
     "output_type": "execute_result"
    }
   ],
   "source": [
    "raw_images_links[0]"
   ]
  },
  {
   "cell_type": "code",
   "execution_count": 24,
   "metadata": {},
   "outputs": [
    {
     "name": "stderr",
     "output_type": "stream",
     "text": [
      "/Users/johannes/opt/anaconda3/lib/python3.8/site-packages/pyproj/crs/crs.py:131: FutureWarning: '+init=<authority>:<code>' syntax is deprecated. '<authority>:<code>' is the preferred initialization method. When making the change, be mindful of axis order changes: https://pyproj4.github.io/pyproj/stable/gotchas.html#axis-order-changes-in-proj-6\n",
      "  in_crs_string = _prepare_from_proj_string(in_crs_string)\n"
     ]
    }
   ],
   "source": [
    "image_geodf = gpd.GeoDataFrame() # Create an empty geopandas GeoDataFrame\n",
    "for i in range(len(raw_images_links)):\n",
    "    #extract an array of the geo points from the file name \n",
    "    point_array = [float(point) for point in str.split(ntpath.basename(raw_images_links[i][:-4]),\"_\")]\n",
    "\n",
    "    #iterate through the geopoints and build tuples\n",
    "    geo_point = [(point_array[0], point_array[1]),\n",
    "                (point_array[0], point_array[3]),\n",
    "                (point_array[2], point_array[1]),\n",
    "                (point_array[2], point_array[3])]\n",
    "\n",
    "    # Create a Shapely polygon from the coordinate-tuple list\n",
    "    image_geodf.loc[i, 'geometry'] = Polygon(geo_point)\n",
    "\n",
    "    # Set the GeoDataFrame's coordinate system to WGS84 (i.e. epsg code 4326)\n",
    "image_geodf.crs = from_epsg(4326)"
   ]
  },
  {
   "cell_type": "code",
   "execution_count": 1,
   "metadata": {},
   "outputs": [
    {
     "ename": "NameError",
     "evalue": "name 'image_geodf' is not defined",
     "output_type": "error",
     "traceback": [
      "\u001b[0;31m---------------------------------------------------------------------------\u001b[0m",
      "\u001b[0;31mNameError\u001b[0m                                 Traceback (most recent call last)",
      "\u001b[0;32m<ipython-input-1-f3752c51d537>\u001b[0m in \u001b[0;36m<module>\u001b[0;34m\u001b[0m\n\u001b[0;32m----> 1\u001b[0;31m \u001b[0mimage_geodf\u001b[0m\u001b[0;34m\u001b[0m\u001b[0;34m\u001b[0m\u001b[0m\n\u001b[0m",
      "\u001b[0;31mNameError\u001b[0m: name 'image_geodf' is not defined"
     ]
    }
   ],
   "source": [
    "image_geodf"
   ]
  },
  {
   "cell_type": "code",
   "execution_count": null,
   "metadata": {},
   "outputs": [],
   "source": []
  }
 ],
 "metadata": {
  "interpreter": {
   "hash": "98a2b17e149e4e8a0b6acf04d01298b022c80a24b0767a95d910142ef5b4f869"
  },
  "kernelspec": {
   "display_name": "Python 3.8.5 ('base')",
   "language": "python",
   "name": "python3"
  },
  "language_info": {
   "codemirror_mode": {
    "name": "ipython",
    "version": 3
   },
   "file_extension": ".py",
   "mimetype": "text/x-python",
   "name": "python",
   "nbconvert_exporter": "python",
   "pygments_lexer": "ipython3",
   "version": "3.8.5"
  },
  "orig_nbformat": 4
 },
 "nbformat": 4,
 "nbformat_minor": 2
}
